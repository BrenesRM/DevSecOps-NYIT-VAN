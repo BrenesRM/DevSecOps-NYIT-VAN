{
  "nbformat": 4,
  "nbformat_minor": 0,
  "metadata": {
    "colab": {
      "provenance": [],
      "toc_visible": true,
      "authorship_tag": "ABX9TyOMW8v55A06bMrGcVMf3T5g",
      "include_colab_link": true
    },
    "kernelspec": {
      "name": "python3",
      "display_name": "Python 3"
    },
    "language_info": {
      "name": "python"
    }
  },
  "cells": [
    {
      "cell_type": "markdown",
      "metadata": {
        "id": "view-in-github",
        "colab_type": "text"
      },
      "source": [
        "<a href=\"https://colab.research.google.com/github/BrenesRM/DevSecOps-NYIT-VAN/blob/main/Haochen_Mitre_Attack_data_2024.ipynb\" target=\"_parent\"><img src=\"https://colab.research.google.com/assets/colab-badge.svg\" alt=\"Open In Colab\"/></a>"
      ]
    },
    {
      "cell_type": "code",
      "execution_count": null,
      "metadata": {
        "id": "1U-84s_tu4a2"
      },
      "outputs": [],
      "source": []
    },
    {
      "cell_type": "markdown",
      "source": [
        "# Project Definition -"
      ],
      "metadata": {
        "id": "qa17CgstfKse"
      }
    },
    {
      "cell_type": "markdown",
      "source": [
        "## Library Definition"
      ],
      "metadata": {
        "id": "qvXqCt5qfMug"
      }
    }
  ]
}